{
 "cells": [
  {
   "cell_type": "code",
   "execution_count": 1,
   "id": "fa99eeda",
   "metadata": {},
   "outputs": [],
   "source": [
    "import pandas as pd\n",
    "import matplotlib.pyplot as plt \n",
    "import numpy as np\n",
    "import seaborn as sn\n",
    "\n",
    "import warnings\n",
    "warnings.filterwarnings('ignore')"
   ]
  },
  {
   "cell_type": "code",
   "execution_count": 2,
   "id": "69933d4b",
   "metadata": {},
   "outputs": [
    {
     "data": {
      "text/html": [
       "<div>\n",
       "<style scoped>\n",
       "    .dataframe tbody tr th:only-of-type {\n",
       "        vertical-align: middle;\n",
       "    }\n",
       "\n",
       "    .dataframe tbody tr th {\n",
       "        vertical-align: top;\n",
       "    }\n",
       "\n",
       "    .dataframe thead th {\n",
       "        text-align: right;\n",
       "    }\n",
       "</style>\n",
       "<table border=\"1\" class=\"dataframe\">\n",
       "  <thead>\n",
       "    <tr style=\"text-align: right;\">\n",
       "      <th></th>\n",
       "      <th>Loan_ID</th>\n",
       "      <th>Gender</th>\n",
       "      <th>Married</th>\n",
       "      <th>Dependents</th>\n",
       "      <th>Education</th>\n",
       "      <th>Self_Employed</th>\n",
       "      <th>ApplicantIncome</th>\n",
       "      <th>CoapplicantIncome</th>\n",
       "      <th>LoanAmount</th>\n",
       "      <th>Loan_Amount_Term</th>\n",
       "      <th>Credit_History</th>\n",
       "      <th>Property_Area</th>\n",
       "      <th>Loan_Status</th>\n",
       "    </tr>\n",
       "  </thead>\n",
       "  <tbody>\n",
       "    <tr>\n",
       "      <th>0</th>\n",
       "      <td>LP001002</td>\n",
       "      <td>Male</td>\n",
       "      <td>No</td>\n",
       "      <td>0</td>\n",
       "      <td>Graduate</td>\n",
       "      <td>No</td>\n",
       "      <td>5849</td>\n",
       "      <td>0.0</td>\n",
       "      <td>NaN</td>\n",
       "      <td>360.0</td>\n",
       "      <td>1.0</td>\n",
       "      <td>Urban</td>\n",
       "      <td>Y</td>\n",
       "    </tr>\n",
       "    <tr>\n",
       "      <th>1</th>\n",
       "      <td>LP001003</td>\n",
       "      <td>Male</td>\n",
       "      <td>Yes</td>\n",
       "      <td>1</td>\n",
       "      <td>Graduate</td>\n",
       "      <td>No</td>\n",
       "      <td>4583</td>\n",
       "      <td>1508.0</td>\n",
       "      <td>128.0</td>\n",
       "      <td>360.0</td>\n",
       "      <td>1.0</td>\n",
       "      <td>Rural</td>\n",
       "      <td>N</td>\n",
       "    </tr>\n",
       "    <tr>\n",
       "      <th>2</th>\n",
       "      <td>LP001005</td>\n",
       "      <td>Male</td>\n",
       "      <td>Yes</td>\n",
       "      <td>0</td>\n",
       "      <td>Graduate</td>\n",
       "      <td>Yes</td>\n",
       "      <td>3000</td>\n",
       "      <td>0.0</td>\n",
       "      <td>66.0</td>\n",
       "      <td>360.0</td>\n",
       "      <td>1.0</td>\n",
       "      <td>Urban</td>\n",
       "      <td>Y</td>\n",
       "    </tr>\n",
       "    <tr>\n",
       "      <th>3</th>\n",
       "      <td>LP001006</td>\n",
       "      <td>Male</td>\n",
       "      <td>Yes</td>\n",
       "      <td>0</td>\n",
       "      <td>Not Graduate</td>\n",
       "      <td>No</td>\n",
       "      <td>2583</td>\n",
       "      <td>2358.0</td>\n",
       "      <td>120.0</td>\n",
       "      <td>360.0</td>\n",
       "      <td>1.0</td>\n",
       "      <td>Urban</td>\n",
       "      <td>Y</td>\n",
       "    </tr>\n",
       "    <tr>\n",
       "      <th>4</th>\n",
       "      <td>LP001008</td>\n",
       "      <td>Male</td>\n",
       "      <td>No</td>\n",
       "      <td>0</td>\n",
       "      <td>Graduate</td>\n",
       "      <td>No</td>\n",
       "      <td>6000</td>\n",
       "      <td>0.0</td>\n",
       "      <td>141.0</td>\n",
       "      <td>360.0</td>\n",
       "      <td>1.0</td>\n",
       "      <td>Urban</td>\n",
       "      <td>Y</td>\n",
       "    </tr>\n",
       "    <tr>\n",
       "      <th>...</th>\n",
       "      <td>...</td>\n",
       "      <td>...</td>\n",
       "      <td>...</td>\n",
       "      <td>...</td>\n",
       "      <td>...</td>\n",
       "      <td>...</td>\n",
       "      <td>...</td>\n",
       "      <td>...</td>\n",
       "      <td>...</td>\n",
       "      <td>...</td>\n",
       "      <td>...</td>\n",
       "      <td>...</td>\n",
       "      <td>...</td>\n",
       "    </tr>\n",
       "    <tr>\n",
       "      <th>609</th>\n",
       "      <td>LP002978</td>\n",
       "      <td>Female</td>\n",
       "      <td>No</td>\n",
       "      <td>0</td>\n",
       "      <td>Graduate</td>\n",
       "      <td>No</td>\n",
       "      <td>2900</td>\n",
       "      <td>0.0</td>\n",
       "      <td>71.0</td>\n",
       "      <td>360.0</td>\n",
       "      <td>1.0</td>\n",
       "      <td>Rural</td>\n",
       "      <td>Y</td>\n",
       "    </tr>\n",
       "    <tr>\n",
       "      <th>610</th>\n",
       "      <td>LP002979</td>\n",
       "      <td>Male</td>\n",
       "      <td>Yes</td>\n",
       "      <td>3+</td>\n",
       "      <td>Graduate</td>\n",
       "      <td>No</td>\n",
       "      <td>4106</td>\n",
       "      <td>0.0</td>\n",
       "      <td>40.0</td>\n",
       "      <td>180.0</td>\n",
       "      <td>1.0</td>\n",
       "      <td>Rural</td>\n",
       "      <td>Y</td>\n",
       "    </tr>\n",
       "    <tr>\n",
       "      <th>611</th>\n",
       "      <td>LP002983</td>\n",
       "      <td>Male</td>\n",
       "      <td>Yes</td>\n",
       "      <td>1</td>\n",
       "      <td>Graduate</td>\n",
       "      <td>No</td>\n",
       "      <td>8072</td>\n",
       "      <td>240.0</td>\n",
       "      <td>253.0</td>\n",
       "      <td>360.0</td>\n",
       "      <td>1.0</td>\n",
       "      <td>Urban</td>\n",
       "      <td>Y</td>\n",
       "    </tr>\n",
       "    <tr>\n",
       "      <th>612</th>\n",
       "      <td>LP002984</td>\n",
       "      <td>Male</td>\n",
       "      <td>Yes</td>\n",
       "      <td>2</td>\n",
       "      <td>Graduate</td>\n",
       "      <td>No</td>\n",
       "      <td>7583</td>\n",
       "      <td>0.0</td>\n",
       "      <td>187.0</td>\n",
       "      <td>360.0</td>\n",
       "      <td>1.0</td>\n",
       "      <td>Urban</td>\n",
       "      <td>Y</td>\n",
       "    </tr>\n",
       "    <tr>\n",
       "      <th>613</th>\n",
       "      <td>LP002990</td>\n",
       "      <td>Female</td>\n",
       "      <td>No</td>\n",
       "      <td>0</td>\n",
       "      <td>Graduate</td>\n",
       "      <td>Yes</td>\n",
       "      <td>4583</td>\n",
       "      <td>0.0</td>\n",
       "      <td>133.0</td>\n",
       "      <td>360.0</td>\n",
       "      <td>0.0</td>\n",
       "      <td>Semiurban</td>\n",
       "      <td>N</td>\n",
       "    </tr>\n",
       "  </tbody>\n",
       "</table>\n",
       "<p>614 rows × 13 columns</p>\n",
       "</div>"
      ],
      "text/plain": [
       "      Loan_ID  Gender Married Dependents     Education Self_Employed  \\\n",
       "0    LP001002    Male      No          0      Graduate            No   \n",
       "1    LP001003    Male     Yes          1      Graduate            No   \n",
       "2    LP001005    Male     Yes          0      Graduate           Yes   \n",
       "3    LP001006    Male     Yes          0  Not Graduate            No   \n",
       "4    LP001008    Male      No          0      Graduate            No   \n",
       "..        ...     ...     ...        ...           ...           ...   \n",
       "609  LP002978  Female      No          0      Graduate            No   \n",
       "610  LP002979    Male     Yes         3+      Graduate            No   \n",
       "611  LP002983    Male     Yes          1      Graduate            No   \n",
       "612  LP002984    Male     Yes          2      Graduate            No   \n",
       "613  LP002990  Female      No          0      Graduate           Yes   \n",
       "\n",
       "     ApplicantIncome  CoapplicantIncome  LoanAmount  Loan_Amount_Term  \\\n",
       "0               5849                0.0         NaN             360.0   \n",
       "1               4583             1508.0       128.0             360.0   \n",
       "2               3000                0.0        66.0             360.0   \n",
       "3               2583             2358.0       120.0             360.0   \n",
       "4               6000                0.0       141.0             360.0   \n",
       "..               ...                ...         ...               ...   \n",
       "609             2900                0.0        71.0             360.0   \n",
       "610             4106                0.0        40.0             180.0   \n",
       "611             8072              240.0       253.0             360.0   \n",
       "612             7583                0.0       187.0             360.0   \n",
       "613             4583                0.0       133.0             360.0   \n",
       "\n",
       "     Credit_History Property_Area Loan_Status  \n",
       "0               1.0         Urban           Y  \n",
       "1               1.0         Rural           N  \n",
       "2               1.0         Urban           Y  \n",
       "3               1.0         Urban           Y  \n",
       "4               1.0         Urban           Y  \n",
       "..              ...           ...         ...  \n",
       "609             1.0         Rural           Y  \n",
       "610             1.0         Rural           Y  \n",
       "611             1.0         Urban           Y  \n",
       "612             1.0         Urban           Y  \n",
       "613             0.0     Semiurban           N  \n",
       "\n",
       "[614 rows x 13 columns]"
      ]
     },
     "execution_count": 2,
     "metadata": {},
     "output_type": "execute_result"
    }
   ],
   "source": [
    "df=pd.read_csv(\"loan-prediction.csv\")\n",
    "df"
   ]
  },
  {
   "cell_type": "code",
   "execution_count": 3,
   "id": "bf176273",
   "metadata": {},
   "outputs": [
    {
     "data": {
      "text/plain": [
       "(614, 13)"
      ]
     },
     "execution_count": 3,
     "metadata": {},
     "output_type": "execute_result"
    }
   ],
   "source": [
    "df.shape"
   ]
  },
  {
   "cell_type": "markdown",
   "id": "733361b5",
   "metadata": {},
   "source": [
    "There are 614 rows and 13 columns"
   ]
  },
  {
   "cell_type": "code",
   "execution_count": 4,
   "id": "ea7a7965",
   "metadata": {},
   "outputs": [
    {
     "data": {
      "text/plain": [
       "Loan_ID               object\n",
       "Gender                object\n",
       "Married               object\n",
       "Dependents            object\n",
       "Education             object\n",
       "Self_Employed         object\n",
       "ApplicantIncome        int64\n",
       "CoapplicantIncome    float64\n",
       "LoanAmount           float64\n",
       "Loan_Amount_Term     float64\n",
       "Credit_History       float64\n",
       "Property_Area         object\n",
       "Loan_Status           object\n",
       "dtype: object"
      ]
     },
     "execution_count": 4,
     "metadata": {},
     "output_type": "execute_result"
    }
   ],
   "source": [
    "df.dtypes"
   ]
  },
  {
   "cell_type": "markdown",
   "id": "e55810e9",
   "metadata": {},
   "source": [
    "These are the data types of the variables. \n",
    "'Loan_ID               object\n",
    "Gender                object\n",
    "Married               object\n",
    "Dependents            object\n",
    "Education             object\n",
    "Self_Employed         object\n",
    "Property_Area         object\n",
    "Loan_Status           object'\n",
    "These are the categorical values other are numerical values"
   ]
  },
  {
   "cell_type": "code",
   "execution_count": 5,
   "id": "b41dd405",
   "metadata": {},
   "outputs": [
    {
     "data": {
      "text/plain": [
       "Loan_ID               0\n",
       "Gender               13\n",
       "Married               3\n",
       "Dependents           15\n",
       "Education             0\n",
       "Self_Employed        32\n",
       "ApplicantIncome       0\n",
       "CoapplicantIncome     0\n",
       "LoanAmount           22\n",
       "Loan_Amount_Term     14\n",
       "Credit_History       50\n",
       "Property_Area         0\n",
       "Loan_Status           0\n",
       "dtype: int64"
      ]
     },
     "execution_count": 5,
     "metadata": {},
     "output_type": "execute_result"
    }
   ],
   "source": [
    "df.isnull().sum()"
   ]
  },
  {
   "cell_type": "markdown",
   "id": "21aa2032",
   "metadata": {},
   "source": [
    "There are null values in Gender,Married, Dependents, Self_Employed, LoanAmount, Loan_Amount_Term and Credit_History"
   ]
  },
  {
   "cell_type": "code",
   "execution_count": 6,
   "id": "69fd0ec3",
   "metadata": {},
   "outputs": [],
   "source": [
    "columns=['Loan_Amount_Term','Dependents','Credit_History','Gender','Married','Self_Employed']         "
   ]
  },
  {
   "cell_type": "code",
   "execution_count": 7,
   "id": "df3ea685",
   "metadata": {},
   "outputs": [],
   "source": [
    "for col in columns:\n",
    "    df[col].fillna(df[col].mode()[0],inplace=True)\n"
   ]
  },
  {
   "cell_type": "code",
   "execution_count": 8,
   "id": "2d5a1e4d",
   "metadata": {},
   "outputs": [
    {
     "data": {
      "text/plain": [
       "Loan_ID               0\n",
       "Gender                0\n",
       "Married               0\n",
       "Dependents            0\n",
       "Education             0\n",
       "Self_Employed         0\n",
       "ApplicantIncome       0\n",
       "CoapplicantIncome     0\n",
       "LoanAmount           22\n",
       "Loan_Amount_Term      0\n",
       "Credit_History        0\n",
       "Property_Area         0\n",
       "Loan_Status           0\n",
       "dtype: int64"
      ]
     },
     "execution_count": 8,
     "metadata": {},
     "output_type": "execute_result"
    }
   ],
   "source": [
    "df.isnull().sum()"
   ]
  },
  {
   "cell_type": "code",
   "execution_count": 9,
   "id": "d1107a99",
   "metadata": {},
   "outputs": [],
   "source": [
    "df['LoanAmount'].fillna(df['LoanAmount'].mean(),inplace=True)"
   ]
  },
  {
   "cell_type": "code",
   "execution_count": 10,
   "id": "1de4e363",
   "metadata": {},
   "outputs": [
    {
     "data": {
      "text/plain": [
       "Loan_ID              0\n",
       "Gender               0\n",
       "Married              0\n",
       "Dependents           0\n",
       "Education            0\n",
       "Self_Employed        0\n",
       "ApplicantIncome      0\n",
       "CoapplicantIncome    0\n",
       "LoanAmount           0\n",
       "Loan_Amount_Term     0\n",
       "Credit_History       0\n",
       "Property_Area        0\n",
       "Loan_Status          0\n",
       "dtype: int64"
      ]
     },
     "execution_count": 10,
     "metadata": {},
     "output_type": "execute_result"
    }
   ],
   "source": [
    "df.isnull().sum()"
   ]
  },
  {
   "cell_type": "markdown",
   "id": "f4a6655f",
   "metadata": {},
   "source": [
    "All the null values removed"
   ]
  },
  {
   "cell_type": "code",
   "execution_count": 11,
   "id": "52c5f5f3",
   "metadata": {},
   "outputs": [
    {
     "data": {
      "text/plain": [
       "Index(['Loan_ID', 'Gender', 'Married', 'Dependents', 'Education',\n",
       "       'Self_Employed', 'ApplicantIncome', 'CoapplicantIncome', 'LoanAmount',\n",
       "       'Loan_Amount_Term', 'Credit_History', 'Property_Area', 'Loan_Status'],\n",
       "      dtype='object')"
      ]
     },
     "execution_count": 11,
     "metadata": {},
     "output_type": "execute_result"
    }
   ],
   "source": [
    "df.columns"
   ]
  },
  {
   "cell_type": "code",
   "execution_count": 12,
   "id": "676ba8e6",
   "metadata": {},
   "outputs": [
    {
     "name": "stdout",
     "output_type": "stream",
     "text": [
      "LP001504    1\n",
      "LP002224    1\n",
      "LP001489    1\n",
      "LP002697    1\n",
      "LP001005    1\n",
      "           ..\n",
      "LP001024    1\n",
      "LP002319    1\n",
      "LP001657    1\n",
      "LP001974    1\n",
      "LP001050    1\n",
      "Name: Loan_ID, Length: 614, dtype: int64\n",
      "******************\n",
      "Male      502\n",
      "Female    112\n",
      "Name: Gender, dtype: int64\n",
      "******************\n",
      "Yes    401\n",
      "No     213\n",
      "Name: Married, dtype: int64\n",
      "******************\n",
      "0     360\n",
      "1     102\n",
      "2     101\n",
      "3+     51\n",
      "Name: Dependents, dtype: int64\n",
      "******************\n",
      "Graduate        480\n",
      "Not Graduate    134\n",
      "Name: Education, dtype: int64\n",
      "******************\n",
      "No     532\n",
      "Yes     82\n",
      "Name: Self_Employed, dtype: int64\n",
      "******************\n",
      "2500    9\n",
      "6000    6\n",
      "2600    6\n",
      "4583    6\n",
      "4166    5\n",
      "       ..\n",
      "5503    1\n",
      "3450    1\n",
      "2425    1\n",
      "2423    1\n",
      "4095    1\n",
      "Name: ApplicantIncome, Length: 505, dtype: int64\n",
      "******************\n",
      "0.0       273\n",
      "2500.0      5\n",
      "2083.0      5\n",
      "1666.0      5\n",
      "1625.0      3\n",
      "         ... \n",
      "2365.0      1\n",
      "1695.0      1\n",
      "2466.0      1\n",
      "2375.0      1\n",
      "1700.0      1\n",
      "Name: CoapplicantIncome, Length: 287, dtype: int64\n",
      "******************\n",
      "146.412162    22\n",
      "120.000000    20\n",
      "110.000000    17\n",
      "100.000000    15\n",
      "160.000000    12\n",
      "              ..\n",
      "211.000000     1\n",
      "250.000000     1\n",
      "62.000000      1\n",
      "85.000000      1\n",
      "436.000000     1\n",
      "Name: LoanAmount, Length: 204, dtype: int64\n",
      "******************\n",
      "360.0    526\n",
      "180.0     44\n",
      "480.0     15\n",
      "300.0     13\n",
      "84.0       4\n",
      "240.0      4\n",
      "120.0      3\n",
      "36.0       2\n",
      "60.0       2\n",
      "12.0       1\n",
      "Name: Loan_Amount_Term, dtype: int64\n",
      "******************\n",
      "1.0    525\n",
      "0.0     89\n",
      "Name: Credit_History, dtype: int64\n",
      "******************\n",
      "Semiurban    233\n",
      "Urban        202\n",
      "Rural        179\n",
      "Name: Property_Area, dtype: int64\n",
      "******************\n",
      "Y    422\n",
      "N    192\n",
      "Name: Loan_Status, dtype: int64\n",
      "******************\n"
     ]
    }
   ],
   "source": [
    "for i in df.columns:\n",
    "    print(df[i].value_counts())\n",
    "    print(\"******************\")"
   ]
  },
  {
   "cell_type": "markdown",
   "id": "b0dbaaa5",
   "metadata": {},
   "source": [
    "These are the value counts of each varibales"
   ]
  },
  {
   "cell_type": "code",
   "execution_count": 13,
   "id": "b7635a79",
   "metadata": {},
   "outputs": [
    {
     "data": {
      "text/html": [
       "<div>\n",
       "<style scoped>\n",
       "    .dataframe tbody tr th:only-of-type {\n",
       "        vertical-align: middle;\n",
       "    }\n",
       "\n",
       "    .dataframe tbody tr th {\n",
       "        vertical-align: top;\n",
       "    }\n",
       "\n",
       "    .dataframe thead th {\n",
       "        text-align: right;\n",
       "    }\n",
       "</style>\n",
       "<table border=\"1\" class=\"dataframe\">\n",
       "  <thead>\n",
       "    <tr style=\"text-align: right;\">\n",
       "      <th></th>\n",
       "      <th>ApplicantIncome</th>\n",
       "      <th>CoapplicantIncome</th>\n",
       "      <th>LoanAmount</th>\n",
       "      <th>Loan_Amount_Term</th>\n",
       "      <th>Credit_History</th>\n",
       "    </tr>\n",
       "  </thead>\n",
       "  <tbody>\n",
       "    <tr>\n",
       "      <th>count</th>\n",
       "      <td>614.000000</td>\n",
       "      <td>614.000000</td>\n",
       "      <td>614.000000</td>\n",
       "      <td>614.000000</td>\n",
       "      <td>614.000000</td>\n",
       "    </tr>\n",
       "    <tr>\n",
       "      <th>mean</th>\n",
       "      <td>5403.459283</td>\n",
       "      <td>1621.245798</td>\n",
       "      <td>146.412162</td>\n",
       "      <td>342.410423</td>\n",
       "      <td>0.855049</td>\n",
       "    </tr>\n",
       "    <tr>\n",
       "      <th>std</th>\n",
       "      <td>6109.041673</td>\n",
       "      <td>2926.248369</td>\n",
       "      <td>84.037468</td>\n",
       "      <td>64.428629</td>\n",
       "      <td>0.352339</td>\n",
       "    </tr>\n",
       "    <tr>\n",
       "      <th>min</th>\n",
       "      <td>150.000000</td>\n",
       "      <td>0.000000</td>\n",
       "      <td>9.000000</td>\n",
       "      <td>12.000000</td>\n",
       "      <td>0.000000</td>\n",
       "    </tr>\n",
       "    <tr>\n",
       "      <th>25%</th>\n",
       "      <td>2877.500000</td>\n",
       "      <td>0.000000</td>\n",
       "      <td>100.250000</td>\n",
       "      <td>360.000000</td>\n",
       "      <td>1.000000</td>\n",
       "    </tr>\n",
       "    <tr>\n",
       "      <th>50%</th>\n",
       "      <td>3812.500000</td>\n",
       "      <td>1188.500000</td>\n",
       "      <td>129.000000</td>\n",
       "      <td>360.000000</td>\n",
       "      <td>1.000000</td>\n",
       "    </tr>\n",
       "    <tr>\n",
       "      <th>75%</th>\n",
       "      <td>5795.000000</td>\n",
       "      <td>2297.250000</td>\n",
       "      <td>164.750000</td>\n",
       "      <td>360.000000</td>\n",
       "      <td>1.000000</td>\n",
       "    </tr>\n",
       "    <tr>\n",
       "      <th>max</th>\n",
       "      <td>81000.000000</td>\n",
       "      <td>41667.000000</td>\n",
       "      <td>700.000000</td>\n",
       "      <td>480.000000</td>\n",
       "      <td>1.000000</td>\n",
       "    </tr>\n",
       "  </tbody>\n",
       "</table>\n",
       "</div>"
      ],
      "text/plain": [
       "       ApplicantIncome  CoapplicantIncome  LoanAmount  Loan_Amount_Term  \\\n",
       "count       614.000000         614.000000  614.000000        614.000000   \n",
       "mean       5403.459283        1621.245798  146.412162        342.410423   \n",
       "std        6109.041673        2926.248369   84.037468         64.428629   \n",
       "min         150.000000           0.000000    9.000000         12.000000   \n",
       "25%        2877.500000           0.000000  100.250000        360.000000   \n",
       "50%        3812.500000        1188.500000  129.000000        360.000000   \n",
       "75%        5795.000000        2297.250000  164.750000        360.000000   \n",
       "max       81000.000000       41667.000000  700.000000        480.000000   \n",
       "\n",
       "       Credit_History  \n",
       "count      614.000000  \n",
       "mean         0.855049  \n",
       "std          0.352339  \n",
       "min          0.000000  \n",
       "25%          1.000000  \n",
       "50%          1.000000  \n",
       "75%          1.000000  \n",
       "max          1.000000  "
      ]
     },
     "execution_count": 13,
     "metadata": {},
     "output_type": "execute_result"
    }
   ],
   "source": [
    "df.describe()"
   ]
  },
  {
   "cell_type": "markdown",
   "id": "789bedef",
   "metadata": {},
   "source": [
    "These are the statistical values of the data"
   ]
  },
  {
   "cell_type": "markdown",
   "id": "565789a5",
   "metadata": {},
   "source": [
    "# EDA"
   ]
  },
  {
   "cell_type": "markdown",
   "id": "9b869c30",
   "metadata": {},
   "source": [
    "Univariate Analysis"
   ]
  },
  {
   "cell_type": "code",
   "execution_count": 14,
   "id": "75a87ee5",
   "metadata": {},
   "outputs": [
    {
     "data": {
      "text/plain": [
       "<AxesSubplot:xlabel='Loan_Status', ylabel='count'>"
      ]
     },
     "execution_count": 14,
     "metadata": {},
     "output_type": "execute_result"
    },
    {
     "data": {
      "image/png": "[encoded data removed]",
      "text/plain": [
       "<Figure size 432x288 with 1 Axes>"
      ]
     },
     "metadata": {
      "needs_background": "light"
     },
     "output_type": "display_data"
    }
   ],
   "source": [
    "sn.countplot(df[\"Loan_Status\"])"
   ]
  },
  {
   "cell_type": "markdown",
   "id": "3090aede",
   "metadata": {},
   "source": [
    "There is imbalance issue exist."
   ]
  },
  {
   "cell_type": "code",
   "execution_count": 15,
   "id": "1f93dadd",
   "metadata": {},
   "outputs": [],
   "source": [
    "from sklearn.preprocessing import LabelEncoder\n",
    "le=LabelEncoder()"
   ]
  },
  {
   "cell_type": "code",
   "execution_count": 16,
   "id": "f3ae0d73",
   "metadata": {},
   "outputs": [],
   "source": [
    "for column in df.columns:\n",
    "    df[column]=le.fit_transform(df[column])\n"
   ]
  },
  {
   "cell_type": "markdown",
   "id": "7ad2fcf3",
   "metadata": {},
   "source": [
    "Converted all the strings to numerical"
   ]
  },
  {
   "cell_type": "code",
   "execution_count": 17,
   "id": "e48cd074",
   "metadata": {},
   "outputs": [
    {
     "data": {
      "image/png": "[encoded data removed]",
      "text/plain": [
       "<Figure size 1296x1080 with 13 Axes>"
      ]
     },
     "metadata": {
      "needs_background": "light"
     },
     "output_type": "display_data"
    }
   ],
   "source": [
    "plt.figure(figsize=(18,15))\n",
    "for i in enumerate(df.columns):\n",
    "    plt.subplot(8,4,i[0]+1)\n",
    "    sn.distplot(df[i[1]],color='g')"
   ]
  },
  {
   "cell_type": "markdown",
   "id": "398a7a5d",
   "metadata": {},
   "source": [
    "From this we can see that only 3 columns are normaly distributed other columns are left or right skewed"
   ]
  },
  {
   "cell_type": "markdown",
   "id": "8db7af97",
   "metadata": {},
   "source": [
    "# Bivariate Analysis"
   ]
  },
  {
   "cell_type": "code",
   "execution_count": 18,
   "id": "25e8171c",
   "metadata": {},
   "outputs": [
    {
     "data": {
      "text/plain": [
       "Index(['Loan_ID', 'Gender', 'Married', 'Dependents', 'Education',\n",
       "       'Self_Employed', 'ApplicantIncome', 'CoapplicantIncome', 'LoanAmount',\n",
       "       'Loan_Amount_Term', 'Credit_History', 'Property_Area', 'Loan_Status'],\n",
       "      dtype='object')"
      ]
     },
     "execution_count": 18,
     "metadata": {},
     "output_type": "execute_result"
    }
   ],
   "source": [
    "df.columns"
   ]
  },
  {
   "cell_type": "code",
   "execution_count": 19,
   "id": "4edee90a",
   "metadata": {},
   "outputs": [
    {
     "data": {
      "text/plain": [
       "<AxesSubplot:title={'center':'comparison between Self_Employed and Loan_Status'}, xlabel='Self_Employed', ylabel='Loan_Status'>"
      ]
     },
     "execution_count": 19,
     "metadata": {},
     "output_type": "execute_result"
    },
    {
     "data": {
      "image/png": "[encoded data removed]",
      "text/plain": [
       "<Figure size 720x432 with 1 Axes>"
      ]
     },
     "metadata": {
      "needs_background": "light"
     },
     "output_type": "display_data"
    }
   ],
   "source": [
    "plt.figure(figsize=[10,6])\n",
    "plt.title(\"comparison between Self_Employed and Loan_Status\")\n",
    "sn.scatterplot(df['Self_Employed'],df['Loan_Status'],hue=df[\"Loan_Status\"])"
   ]
  },
  {
   "cell_type": "markdown",
   "id": "d1c92f3d",
   "metadata": {},
   "source": [
    "This shows the distribution of self employed against loan status"
   ]
  },
  {
   "cell_type": "code",
   "execution_count": 20,
   "id": "3595ffb6",
   "metadata": {},
   "outputs": [
    {
     "data": {
      "text/plain": [
       "<AxesSubplot:title={'center':'comparison between ApplicantIncome and Loan_Status'}, xlabel='ApplicantIncome', ylabel='Loan_Status'>"
      ]
     },
     "execution_count": 20,
     "metadata": {},
     "output_type": "execute_result"
    },
    {
     "data": {
      "image/png": "[encoded data removed]",
      "text/plain": [
       "<Figure size 720x432 with 1 Axes>"
      ]
     },
     "metadata": {
      "needs_background": "light"
     },
     "output_type": "display_data"
    }
   ],
   "source": [
    "plt.figure(figsize=[10,6])\n",
    "plt.title(\"comparison between ApplicantIncome and Loan_Status\")\n",
    "sn.scatterplot(df['ApplicantIncome'],df['Loan_Status'],hue=df[\"Loan_Status\"])"
   ]
  },
  {
   "cell_type": "markdown",
   "id": "45ab5ad8",
   "metadata": {},
   "source": [
    "This shows the distribution of applicant income against loan status"
   ]
  },
  {
   "cell_type": "code",
   "execution_count": 21,
   "id": "a53d2eea",
   "metadata": {},
   "outputs": [
    {
     "data": {
      "text/plain": [
       "<AxesSubplot:title={'center':'comparison between CoapplicantIncome and Loan_Status'}, xlabel='CoapplicantIncome', ylabel='Loan_Status'>"
      ]
     },
     "execution_count": 21,
     "metadata": {},
     "output_type": "execute_result"
    },
    {
     "data": {
      "image/png": "[encoded data removed]",
      "text/plain": [
       "<Figure size 720x432 with 1 Axes>"
      ]
     },
     "metadata": {
      "needs_background": "light"
     },
     "output_type": "display_data"
    }
   ],
   "source": [
    "plt.figure(figsize=[10,6])\n",
    "plt.title(\"comparison between CoapplicantIncome and Loan_Status\")\n",
    "sn.scatterplot(df['CoapplicantIncome'],df['Loan_Status'],hue=df[\"Loan_Status\"])"
   ]
  },
  {
   "cell_type": "markdown",
   "id": "e45541b7",
   "metadata": {},
   "source": [
    "This shows the distribution of co-applicantincome against loan status"
   ]
  },
  {
   "cell_type": "code",
   "execution_count": 22,
   "id": "8d3130df",
   "metadata": {},
   "outputs": [
    {
     "data": {
      "text/plain": [
       "<AxesSubplot:title={'center':'comparison between LoanAmount and Loan_Status'}, xlabel='LoanAmount', ylabel='Loan_Status'>"
      ]
     },
     "execution_count": 22,
     "metadata": {},
     "output_type": "execute_result"
    },
    {
     "data": {
      "image/png": "[encoded data removed]",
      "text/plain": [
       "<Figure size 720x432 with 1 Axes>"
      ]
     },
     "metadata": {
      "needs_background": "light"
     },
     "output_type": "display_data"
    }
   ],
   "source": [
    "plt.figure(figsize=[10,6])\n",
    "plt.title(\"comparison between LoanAmount and Loan_Status\")\n",
    "sn.scatterplot(df['LoanAmount'],df['Loan_Status'],hue=df[\"Loan_Status\"])"
   ]
  },
  {
   "cell_type": "markdown",
   "id": "163c3dc9",
   "metadata": {},
   "source": [
    "This shows the distribution of loanamount against loan status"
   ]
  },
  {
   "cell_type": "code",
   "execution_count": 23,
   "id": "3338ed14",
   "metadata": {},
   "outputs": [
    {
     "data": {
      "text/plain": [
       "<AxesSubplot:title={'center':'comparison between Loan_Amount_Term and Loan_Status'}, xlabel='Loan_Amount_Term', ylabel='Loan_Status'>"
      ]
     },
     "execution_count": 23,
     "metadata": {},
     "output_type": "execute_result"
    },
    {
     "data": {
      "image/png": "[encoded data removed]",
      "text/plain": [
       "<Figure size 720x432 with 1 Axes>"
      ]
     },
     "metadata": {
      "needs_background": "light"
     },
     "output_type": "display_data"
    }
   ],
   "source": [
    "plt.figure(figsize=[10,6])\n",
    "plt.title(\"comparison between Loan_Amount_Term and Loan_Status\")\n",
    "sn.scatterplot(df['Loan_Amount_Term'],df['Loan_Status'],hue=df[\"Loan_Status\"])"
   ]
  },
  {
   "cell_type": "markdown",
   "id": "e575ccb4",
   "metadata": {},
   "source": [
    "This shows the distribution of loan amount term against loan status"
   ]
  },
  {
   "cell_type": "code",
   "execution_count": 24,
   "id": "822920ec",
   "metadata": {},
   "outputs": [
    {
     "data": {
      "text/plain": [
       "<AxesSubplot:title={'center':'comparison between Credit_History and Loan_Status'}, xlabel='Credit_History', ylabel='Loan_Status'>"
      ]
     },
     "execution_count": 24,
     "metadata": {},
     "output_type": "execute_result"
    },
    {
     "data": {
      "image/png": "[encoded data removed]",
      "text/plain": [
       "<Figure size 720x432 with 1 Axes>"
      ]
     },
     "metadata": {
      "needs_background": "light"
     },
     "output_type": "display_data"
    }
   ],
   "source": [
    "plt.figure(figsize=[10,6])\n",
    "plt.title(\"comparison between Credit_History and Loan_Status\")\n",
    "sn.scatterplot(df['Credit_History'],df['Loan_Status'],hue=df[\"Loan_Status\"])"
   ]
  },
  {
   "cell_type": "markdown",
   "id": "6c134c6c",
   "metadata": {},
   "source": [
    "This shows the distribution of credit history against loan status"
   ]
  },
  {
   "cell_type": "code",
   "execution_count": 25,
   "id": "84e95708",
   "metadata": {},
   "outputs": [
    {
     "data": {
      "text/plain": [
       "<AxesSubplot:title={'center':'comparison between Property_Area and Loan_Status'}, xlabel='Property_Area', ylabel='Loan_Status'>"
      ]
     },
     "execution_count": 25,
     "metadata": {},
     "output_type": "execute_result"
    },
    {
     "data": {
      "image/png": "[encoded data removed]",
      "text/plain": [
       "<Figure size 720x432 with 1 Axes>"
      ]
     },
     "metadata": {
      "needs_background": "light"
     },
     "output_type": "display_data"
    }
   ],
   "source": [
    "plt.figure(figsize=[10,6])\n",
    "plt.title(\"comparison between Property_Area and Loan_Status\")\n",
    "sn.scatterplot(df['Property_Area'],df['Loan_Status'],hue=df[\"Loan_Status\"])"
   ]
  },
  {
   "cell_type": "markdown",
   "id": "04557f58",
   "metadata": {},
   "source": [
    "This shows the distribution of property area against loan status"
   ]
  },
  {
   "cell_type": "code",
   "execution_count": 26,
   "id": "53f63110",
   "metadata": {},
   "outputs": [
    {
     "data": {
      "text/html": [
       "<div>\n",
       "<style scoped>\n",
       "    .dataframe tbody tr th:only-of-type {\n",
       "        vertical-align: middle;\n",
       "    }\n",
       "\n",
       "    .dataframe tbody tr th {\n",
       "        vertical-align: top;\n",
       "    }\n",
       "\n",
       "    .dataframe thead th {\n",
       "        text-align: right;\n",
       "    }\n",
       "</style>\n",
       "<table border=\"1\" class=\"dataframe\">\n",
       "  <thead>\n",
       "    <tr style=\"text-align: right;\">\n",
       "      <th></th>\n",
       "      <th>Loan_ID</th>\n",
       "      <th>Gender</th>\n",
       "      <th>Married</th>\n",
       "      <th>Dependents</th>\n",
       "      <th>Education</th>\n",
       "      <th>Self_Employed</th>\n",
       "      <th>ApplicantIncome</th>\n",
       "      <th>CoapplicantIncome</th>\n",
       "      <th>LoanAmount</th>\n",
       "      <th>Loan_Amount_Term</th>\n",
       "      <th>Credit_History</th>\n",
       "      <th>Property_Area</th>\n",
       "      <th>Loan_Status</th>\n",
       "    </tr>\n",
       "  </thead>\n",
       "  <tbody>\n",
       "    <tr>\n",
       "      <th>Loan_ID</th>\n",
       "      <td>1.000000</td>\n",
       "      <td>-0.028029</td>\n",
       "      <td>-0.016013</td>\n",
       "      <td>0.051559</td>\n",
       "      <td>0.039442</td>\n",
       "      <td>0.032874</td>\n",
       "      <td>0.008771</td>\n",
       "      <td>-0.030368</td>\n",
       "      <td>0.033688</td>\n",
       "      <td>-0.036504</td>\n",
       "      <td>-0.030603</td>\n",
       "      <td>-0.155416</td>\n",
       "      <td>0.011773</td>\n",
       "    </tr>\n",
       "    <tr>\n",
       "      <th>Gender</th>\n",
       "      <td>-0.028029</td>\n",
       "      <td>1.000000</td>\n",
       "      <td>0.364569</td>\n",
       "      <td>0.172914</td>\n",
       "      <td>0.045364</td>\n",
       "      <td>-0.000525</td>\n",
       "      <td>0.074223</td>\n",
       "      <td>0.180774</td>\n",
       "      <td>0.151163</td>\n",
       "      <td>-0.065494</td>\n",
       "      <td>0.009170</td>\n",
       "      <td>-0.025752</td>\n",
       "      <td>0.017987</td>\n",
       "    </tr>\n",
       "    <tr>\n",
       "      <th>Married</th>\n",
       "      <td>-0.016013</td>\n",
       "      <td>0.364569</td>\n",
       "      <td>1.000000</td>\n",
       "      <td>0.334216</td>\n",
       "      <td>0.012304</td>\n",
       "      <td>0.004489</td>\n",
       "      <td>0.010497</td>\n",
       "      <td>0.207905</td>\n",
       "      <td>0.184857</td>\n",
       "      <td>-0.082642</td>\n",
       "      <td>0.010938</td>\n",
       "      <td>0.004257</td>\n",
       "      <td>0.091478</td>\n",
       "    </tr>\n",
       "    <tr>\n",
       "      <th>Dependents</th>\n",
       "      <td>0.051559</td>\n",
       "      <td>0.172914</td>\n",
       "      <td>0.334216</td>\n",
       "      <td>1.000000</td>\n",
       "      <td>0.055752</td>\n",
       "      <td>0.056798</td>\n",
       "      <td>0.137382</td>\n",
       "      <td>-0.065140</td>\n",
       "      <td>0.161153</td>\n",
       "      <td>-0.096377</td>\n",
       "      <td>-0.040160</td>\n",
       "      <td>-0.000244</td>\n",
       "      <td>0.010118</td>\n",
       "    </tr>\n",
       "    <tr>\n",
       "      <th>Education</th>\n",
       "      <td>0.039442</td>\n",
       "      <td>0.045364</td>\n",
       "      <td>0.012304</td>\n",
       "      <td>0.055752</td>\n",
       "      <td>1.000000</td>\n",
       "      <td>-0.010383</td>\n",
       "      <td>-0.190873</td>\n",
       "      <td>-0.052724</td>\n",
       "      <td>-0.172249</td>\n",
       "      <td>-0.076414</td>\n",
       "      <td>-0.073658</td>\n",
       "      <td>-0.065243</td>\n",
       "      <td>-0.085884</td>\n",
       "    </tr>\n",
       "    <tr>\n",
       "      <th>Self_Employed</th>\n",
       "      <td>0.032874</td>\n",
       "      <td>-0.000525</td>\n",
       "      <td>0.004489</td>\n",
       "      <td>0.056798</td>\n",
       "      <td>-0.010383</td>\n",
       "      <td>1.000000</td>\n",
       "      <td>0.199142</td>\n",
       "      <td>-0.036033</td>\n",
       "      <td>0.117717</td>\n",
       "      <td>-0.029184</td>\n",
       "      <td>-0.001550</td>\n",
       "      <td>-0.030860</td>\n",
       "      <td>-0.003700</td>\n",
       "    </tr>\n",
       "    <tr>\n",
       "      <th>ApplicantIncome</th>\n",
       "      <td>0.008771</td>\n",
       "      <td>0.074223</td>\n",
       "      <td>0.010497</td>\n",
       "      <td>0.137382</td>\n",
       "      <td>-0.190873</td>\n",
       "      <td>0.199142</td>\n",
       "      <td>1.000000</td>\n",
       "      <td>-0.248763</td>\n",
       "      <td>0.525324</td>\n",
       "      <td>-0.017972</td>\n",
       "      <td>0.037980</td>\n",
       "      <td>-0.065143</td>\n",
       "      <td>-0.003123</td>\n",
       "    </tr>\n",
       "    <tr>\n",
       "      <th>CoapplicantIncome</th>\n",
       "      <td>-0.030368</td>\n",
       "      <td>0.180774</td>\n",
       "      <td>0.207905</td>\n",
       "      <td>-0.065140</td>\n",
       "      <td>-0.052724</td>\n",
       "      <td>-0.036033</td>\n",
       "      <td>-0.248763</td>\n",
       "      <td>1.000000</td>\n",
       "      <td>0.264136</td>\n",
       "      <td>-0.015633</td>\n",
       "      <td>-0.006363</td>\n",
       "      <td>-0.082223</td>\n",
       "      <td>0.007812</td>\n",
       "    </tr>\n",
       "    <tr>\n",
       "      <th>LoanAmount</th>\n",
       "      <td>0.033688</td>\n",
       "      <td>0.151163</td>\n",
       "      <td>0.184857</td>\n",
       "      <td>0.161153</td>\n",
       "      <td>-0.172249</td>\n",
       "      <td>0.117717</td>\n",
       "      <td>0.525324</td>\n",
       "      <td>0.264136</td>\n",
       "      <td>1.000000</td>\n",
       "      <td>0.059344</td>\n",
       "      <td>-0.000601</td>\n",
       "      <td>-0.084076</td>\n",
       "      <td>-0.049717</td>\n",
       "    </tr>\n",
       "    <tr>\n",
       "      <th>Loan_Amount_Term</th>\n",
       "      <td>-0.036504</td>\n",
       "      <td>-0.065494</td>\n",
       "      <td>-0.082642</td>\n",
       "      <td>-0.096377</td>\n",
       "      <td>-0.076414</td>\n",
       "      <td>-0.029184</td>\n",
       "      <td>-0.017972</td>\n",
       "      <td>-0.015633</td>\n",
       "      <td>0.059344</td>\n",
       "      <td>1.000000</td>\n",
       "      <td>-0.002379</td>\n",
       "      <td>-0.086578</td>\n",
       "      <td>-0.005679</td>\n",
       "    </tr>\n",
       "    <tr>\n",
       "      <th>Credit_History</th>\n",
       "      <td>-0.030603</td>\n",
       "      <td>0.009170</td>\n",
       "      <td>0.010938</td>\n",
       "      <td>-0.040160</td>\n",
       "      <td>-0.073658</td>\n",
       "      <td>-0.001550</td>\n",
       "      <td>0.037980</td>\n",
       "      <td>-0.006363</td>\n",
       "      <td>-0.000601</td>\n",
       "      <td>-0.002379</td>\n",
       "      <td>1.000000</td>\n",
       "      <td>0.001963</td>\n",
       "      <td>0.540556</td>\n",
       "    </tr>\n",
       "    <tr>\n",
       "      <th>Property_Area</th>\n",
       "      <td>-0.155416</td>\n",
       "      <td>-0.025752</td>\n",
       "      <td>0.004257</td>\n",
       "      <td>-0.000244</td>\n",
       "      <td>-0.065243</td>\n",
       "      <td>-0.030860</td>\n",
       "      <td>-0.065143</td>\n",
       "      <td>-0.082223</td>\n",
       "      <td>-0.084076</td>\n",
       "      <td>-0.086578</td>\n",
       "      <td>0.001963</td>\n",
       "      <td>1.000000</td>\n",
       "      <td>0.032112</td>\n",
       "    </tr>\n",
       "    <tr>\n",
       "      <th>Loan_Status</th>\n",
       "      <td>0.011773</td>\n",
       "      <td>0.017987</td>\n",
       "      <td>0.091478</td>\n",
       "      <td>0.010118</td>\n",
       "      <td>-0.085884</td>\n",
       "      <td>-0.003700</td>\n",
       "      <td>-0.003123</td>\n",
       "      <td>0.007812</td>\n",
       "      <td>-0.049717</td>\n",
       "      <td>-0.005679</td>\n",
       "      <td>0.540556</td>\n",
       "      <td>0.032112</td>\n",
       "      <td>1.000000</td>\n",
       "    </tr>\n",
       "  </tbody>\n",
       "</table>\n",
       "</div>"
      ],
      "text/plain": [
       "                    Loan_ID    Gender   Married  Dependents  Education  \\\n",
       "Loan_ID            1.000000 -0.028029 -0.016013    0.051559   0.039442   \n",
       "Gender            -0.028029  1.000000  0.364569    0.172914   0.045364   \n",
       "Married           -0.016013  0.364569  1.000000    0.334216   0.012304   \n",
       "Dependents         0.051559  0.172914  0.334216    1.000000   0.055752   \n",
       "Education          0.039442  0.045364  0.012304    0.055752   1.000000   \n",
       "Self_Employed      0.032874 -0.000525  0.004489    0.056798  -0.010383   \n",
       "ApplicantIncome    0.008771  0.074223  0.010497    0.137382  -0.190873   \n",
       "CoapplicantIncome -0.030368  0.180774  0.207905   -0.065140  -0.052724   \n",
       "LoanAmount         0.033688  0.151163  0.184857    0.161153  -0.172249   \n",
       "Loan_Amount_Term  -0.036504 -0.065494 -0.082642   -0.096377  -0.076414   \n",
       "Credit_History    -0.030603  0.009170  0.010938   -0.040160  -0.073658   \n",
       "Property_Area     -0.155416 -0.025752  0.004257   -0.000244  -0.065243   \n",
       "Loan_Status        0.011773  0.017987  0.091478    0.010118  -0.085884   \n",
       "\n",
       "                   Self_Employed  ApplicantIncome  CoapplicantIncome  \\\n",
       "Loan_ID                 0.032874         0.008771          -0.030368   \n",
       "Gender                 -0.000525         0.074223           0.180774   \n",
       "Married                 0.004489         0.010497           0.207905   \n",
       "Dependents              0.056798         0.137382          -0.065140   \n",
       "Education              -0.010383        -0.190873          -0.052724   \n",
       "Self_Employed           1.000000         0.199142          -0.036033   \n",
       "ApplicantIncome         0.199142         1.000000          -0.248763   \n",
       "CoapplicantIncome      -0.036033        -0.248763           1.000000   \n",
       "LoanAmount              0.117717         0.525324           0.264136   \n",
       "Loan_Amount_Term       -0.029184        -0.017972          -0.015633   \n",
       "Credit_History         -0.001550         0.037980          -0.006363   \n",
       "Property_Area          -0.030860        -0.065143          -0.082223   \n",
       "Loan_Status            -0.003700        -0.003123           0.007812   \n",
       "\n",
       "                   LoanAmount  Loan_Amount_Term  Credit_History  \\\n",
       "Loan_ID              0.033688         -0.036504       -0.030603   \n",
       "Gender               0.151163         -0.065494        0.009170   \n",
       "Married              0.184857         -0.082642        0.010938   \n",
       "Dependents           0.161153         -0.096377       -0.040160   \n",
       "Education           -0.172249         -0.076414       -0.073658   \n",
       "Self_Employed        0.117717         -0.029184       -0.001550   \n",
       "ApplicantIncome      0.525324         -0.017972        0.037980   \n",
       "CoapplicantIncome    0.264136         -0.015633       -0.006363   \n",
       "LoanAmount           1.000000          0.059344       -0.000601   \n",
       "Loan_Amount_Term     0.059344          1.000000       -0.002379   \n",
       "Credit_History      -0.000601         -0.002379        1.000000   \n",
       "Property_Area       -0.084076         -0.086578        0.001963   \n",
       "Loan_Status         -0.049717         -0.005679        0.540556   \n",
       "\n",
       "                   Property_Area  Loan_Status  \n",
       "Loan_ID                -0.155416     0.011773  \n",
       "Gender                 -0.025752     0.017987  \n",
       "Married                 0.004257     0.091478  \n",
       "Dependents             -0.000244     0.010118  \n",
       "Education              -0.065243    -0.085884  \n",
       "Self_Employed          -0.030860    -0.003700  \n",
       "ApplicantIncome        -0.065143    -0.003123  \n",
       "CoapplicantIncome      -0.082223     0.007812  \n",
       "LoanAmount             -0.084076    -0.049717  \n",
       "Loan_Amount_Term       -0.086578    -0.005679  \n",
       "Credit_History          0.001963     0.540556  \n",
       "Property_Area           1.000000     0.032112  \n",
       "Loan_Status             0.032112     1.000000  "
      ]
     },
     "execution_count": 26,
     "metadata": {},
     "output_type": "execute_result"
    }
   ],
   "source": [
    "cor=df.corr()\n",
    "cor"
   ]
  },
  {
   "cell_type": "code",
   "execution_count": 27,
   "id": "aaef0069",
   "metadata": {},
   "outputs": [
    {
     "data": {
      "text/plain": [
       "<AxesSubplot:>"
      ]
     },
     "execution_count": 27,
     "metadata": {},
     "output_type": "execute_result"
    },
    {
     "data": {
      "image/png": "[encoded data removed]",
      "text/plain": [
       "<Figure size 2160x1440 with 2 Axes>"
      ]
     },
     "metadata": {
      "needs_background": "light"
     },
     "output_type": "display_data"
    }
   ],
   "source": [
    "plt.figure(figsize=[30,20])\n",
    "sn.heatmap(cor,annot=True,linewidths=6,linecolor='r')"
   ]
  },
  {
   "cell_type": "markdown",
   "id": "712079a4",
   "metadata": {},
   "source": [
    "Here not more variables are highly negatively correlated with loan status"
   ]
  },
  {
   "cell_type": "code",
   "execution_count": 28,
   "id": "010bc2d5",
   "metadata": {},
   "outputs": [
    {
     "data": {
      "text/plain": [
       "Loan_ID                 AxesSubplot(0.125,0.536818;0.0945122x0.343182)\n",
       "Gender               AxesSubplot(0.238415,0.536818;0.0945122x0.343182)\n",
       "Married              AxesSubplot(0.351829,0.536818;0.0945122x0.343182)\n",
       "Dependents           AxesSubplot(0.465244,0.536818;0.0945122x0.343182)\n",
       "Education            AxesSubplot(0.578659,0.536818;0.0945122x0.343182)\n",
       "Self_Employed        AxesSubplot(0.692073,0.536818;0.0945122x0.343182)\n",
       "ApplicantIncome      AxesSubplot(0.805488,0.536818;0.0945122x0.343182)\n",
       "CoapplicantIncome          AxesSubplot(0.125,0.125;0.0945122x0.343182)\n",
       "LoanAmount              AxesSubplot(0.238415,0.125;0.0945122x0.343182)\n",
       "Loan_Amount_Term        AxesSubplot(0.351829,0.125;0.0945122x0.343182)\n",
       "Credit_History          AxesSubplot(0.465244,0.125;0.0945122x0.343182)\n",
       "Property_Area           AxesSubplot(0.578659,0.125;0.0945122x0.343182)\n",
       "Loan_Status             AxesSubplot(0.692073,0.125;0.0945122x0.343182)\n",
       "dtype: object"
      ]
     },
     "execution_count": 28,
     "metadata": {},
     "output_type": "execute_result"
    },
    {
     "data": {
      "image/png": "[encoded data removed]",
      "text/plain": [
       "<Figure size 432x288 with 14 Axes>"
      ]
     },
     "metadata": {
      "needs_background": "light"
     },
     "output_type": "display_data"
    }
   ],
   "source": [
    "df.plot(kind=\"box\",subplots=True,layout=(2,7))"
   ]
  },
  {
   "cell_type": "markdown",
   "id": "c90ca90d",
   "metadata": {},
   "source": [
    "There are ouliers present in the columns. Its more in loan amount term"
   ]
  },
  {
   "cell_type": "markdown",
   "id": "5d00968c",
   "metadata": {},
   "source": [
    "# Outlier Remover"
   ]
  },
  {
   "cell_type": "code",
   "execution_count": 29,
   "id": "51a50fbc",
   "metadata": {},
   "outputs": [],
   "source": [
    "from scipy.stats import zscore"
   ]
  },
  {
   "cell_type": "code",
   "execution_count": 30,
   "id": "a815beae",
   "metadata": {},
   "outputs": [],
   "source": [
    "z=np.abs(zscore(df))\n",
    "new_df=df[(z<3).all(axis=1)]"
   ]
  },
  {
   "cell_type": "code",
   "execution_count": 31,
   "id": "aef93dbd",
   "metadata": {},
   "outputs": [
    {
     "data": {
      "text/plain": [
       "Loan_ID             -0.000263\n",
       "Gender              -1.646147\n",
       "Married             -0.643625\n",
       "Dependents           1.027516\n",
       "Education            1.372199\n",
       "Self_Employed        2.189792\n",
       "ApplicantIncome      0.037182\n",
       "CoapplicantIncome    0.772613\n",
       "LoanAmount           0.471894\n",
       "Loan_Amount_Term    -2.771730\n",
       "Credit_History      -1.989282\n",
       "Property_Area       -0.058757\n",
       "Loan_Status         -0.803760\n",
       "dtype: float64"
      ]
     },
     "execution_count": 31,
     "metadata": {},
     "output_type": "execute_result"
    }
   ],
   "source": [
    "new_df.skew()"
   ]
  },
  {
   "cell_type": "markdown",
   "id": "25edbc75",
   "metadata": {},
   "source": [
    "There are skewness present in 'Gender','Married','Dependents','Education','Self_Employed','CoapplicantIncome','Loan_Amount_Term','Credit_History'\n",
    "not considering the skewness in the target  .  We will consider all skewness more than =/- 0.5"
   ]
  },
  {
   "cell_type": "code",
   "execution_count": 32,
   "id": "c33b0fcd",
   "metadata": {},
   "outputs": [
    {
     "data": {
      "text/plain": [
       "(602, 13)"
      ]
     },
     "execution_count": 32,
     "metadata": {},
     "output_type": "execute_result"
    }
   ],
   "source": [
    "new_df.shape"
   ]
  },
  {
   "cell_type": "markdown",
   "id": "cdc1cf6f",
   "metadata": {},
   "source": [
    "There were 614 columns by using zscore there are only 602 rows"
   ]
  },
  {
   "cell_type": "code",
   "execution_count": 33,
   "id": "1af52c1c",
   "metadata": {},
   "outputs": [],
   "source": [
    "from sklearn.preprocessing import power_transform"
   ]
  },
  {
   "cell_type": "code",
   "execution_count": 34,
   "id": "80222aa9",
   "metadata": {},
   "outputs": [],
   "source": [
    "new_df[['Gender','Married','Dependents','Education','Self_Employed','CoapplicantIncome','Loan_Amount_Term','Credit_History']]=power_transform(new_df[['Gender','Married','Dependents','Education','Self_Employed','CoapplicantIncome','Loan_Amount_Term','Credit_History']])\n",
    "\n",
    "\n"
   ]
  },
  {
   "cell_type": "code",
   "execution_count": 35,
   "id": "a863ceed",
   "metadata": {},
   "outputs": [
    {
     "data": {
      "text/plain": [
       "Loan_ID             -0.000263\n",
       "Gender              -1.646147\n",
       "Married             -0.643625\n",
       "Dependents           0.452468\n",
       "Education            1.372199\n",
       "Self_Employed        2.189792\n",
       "ApplicantIncome      0.037182\n",
       "CoapplicantIncome   -0.047448\n",
       "LoanAmount           0.471894\n",
       "Loan_Amount_Term     0.488385\n",
       "Credit_History      -1.989282\n",
       "Property_Area       -0.058757\n",
       "Loan_Status         -0.803760\n",
       "dtype: float64"
      ]
     },
     "execution_count": 35,
     "metadata": {},
     "output_type": "execute_result"
    }
   ],
   "source": [
    "new_df.skew()"
   ]
  },
  {
   "cell_type": "markdown",
   "id": "f75f486e",
   "metadata": {},
   "source": [
    "Reduced the skewness"
   ]
  },
  {
   "cell_type": "markdown",
   "id": "10577cdd",
   "metadata": {},
   "source": [
    "# Dividing Data into x and y"
   ]
  },
  {
   "cell_type": "code",
   "execution_count": 36,
   "id": "5a0605e1",
   "metadata": {},
   "outputs": [],
   "source": [
    "x=df.drop([\"Loan_Status\"],axis=1)\n",
    "y=df[\"Loan_Status\"]"
   ]
  },
  {
   "cell_type": "code",
   "execution_count": 37,
   "id": "1b722321",
   "metadata": {},
   "outputs": [
    {
     "data": {
      "text/plain": [
       "(614, 12)"
      ]
     },
     "execution_count": 37,
     "metadata": {},
     "output_type": "execute_result"
    }
   ],
   "source": [
    "x.shape"
   ]
  },
  {
   "cell_type": "code",
   "execution_count": 38,
   "id": "1c9eb873",
   "metadata": {},
   "outputs": [
    {
     "data": {
      "text/plain": [
       "(614,)"
      ]
     },
     "execution_count": 38,
     "metadata": {},
     "output_type": "execute_result"
    }
   ],
   "source": [
    "y.shape"
   ]
  },
  {
   "cell_type": "markdown",
   "id": "6d6eef3d",
   "metadata": {},
   "source": [
    "# Scaling"
   ]
  },
  {
   "cell_type": "code",
   "execution_count": 39,
   "id": "8a9caeac",
   "metadata": {},
   "outputs": [],
   "source": [
    "from sklearn.preprocessing import MinMaxScaler\n",
    "\n",
    "sc=MinMaxScaler()\n",
    "x=sc.fit_transform(x)"
   ]
  },
  {
   "cell_type": "markdown",
   "id": "8cc0f686",
   "metadata": {},
   "source": [
    "Done the Scaling of the x data"
   ]
  },
  {
   "cell_type": "markdown",
   "id": "bc0d14a7",
   "metadata": {},
   "source": [
    "# Balancing"
   ]
  },
  {
   "cell_type": "code",
   "execution_count": 40,
   "id": "42c472b4",
   "metadata": {},
   "outputs": [
    {
     "data": {
      "text/plain": [
       "'0.24.1'"
      ]
     },
     "execution_count": 40,
     "metadata": {},
     "output_type": "execute_result"
    }
   ],
   "source": [
    "import sklearn\n",
    "sklearn.__version__"
   ]
  },
  {
   "cell_type": "code",
   "execution_count": 41,
   "id": "f65bdbf4",
   "metadata": {},
   "outputs": [
    {
     "data": {
      "text/plain": [
       "'1.20.1'"
      ]
     },
     "execution_count": 41,
     "metadata": {},
     "output_type": "execute_result"
    }
   ],
   "source": [
    "import numpy\n",
    "numpy.__version__"
   ]
  },
  {
   "cell_type": "code",
   "execution_count": 42,
   "id": "221b340c",
   "metadata": {},
   "outputs": [],
   "source": [
    "dfx=df.drop(['Loan_Status'],axis=1)\n",
    "dfy=df['Loan_Status']"
   ]
  },
  {
   "cell_type": "code",
   "execution_count": 43,
   "id": "ae6ab99b",
   "metadata": {},
   "outputs": [],
   "source": [
    "from imblearn.over_sampling import SMOTE"
   ]
  },
  {
   "cell_type": "code",
   "execution_count": 44,
   "id": "7d5bda32",
   "metadata": {},
   "outputs": [],
   "source": [
    "smt=SMOTE()\n",
    "trainx,trainy=smt.fit_resample(dfx,dfy)"
   ]
  },
  {
   "cell_type": "code",
   "execution_count": 45,
   "id": "0ee9a6ac",
   "metadata": {},
   "outputs": [
    {
     "data": {
      "text/plain": [
       "<AxesSubplot:xlabel='Loan_Status', ylabel='count'>"
      ]
     },
     "execution_count": 45,
     "metadata": {},
     "output_type": "execute_result"
    },
    {
     "data": {
      "image/png": "[encoded data removed]",
      "text/plain": [
       "<Figure size 432x288 with 1 Axes>"
      ]
     },
     "metadata": {
      "needs_background": "light"
     },
     "output_type": "display_data"
    }
   ],
   "source": [
    "sn.countplot(trainy)"
   ]
  },
  {
   "cell_type": "markdown",
   "id": "f99ac927",
   "metadata": {},
   "source": [
    "Balanced the target column"
   ]
  },
  {
   "cell_type": "markdown",
   "id": "0bfc086f",
   "metadata": {},
   "source": [
    "# Splitting the Data for Training and Testing"
   ]
  },
  {
   "cell_type": "code",
   "execution_count": 46,
   "id": "22a8f10d",
   "metadata": {},
   "outputs": [],
   "source": [
    "from sklearn.metrics import mean_squared_error,mean_absolute_error\n",
    "from sklearn.metrics import r2_score\n",
    "from sklearn.model_selection import train_test_split\n",
    "from sklearn.model_selection import cross_val_score\n",
    "from sklearn.linear_model import LogisticRegression\n",
    "from sklearn.metrics import accuracy_score,confusion_matrix,classification_report"
   ]
  },
  {
   "cell_type": "markdown",
   "id": "291c8332",
   "metadata": {},
   "source": [
    "# Find the best random states use here"
   ]
  },
  {
   "cell_type": "code",
   "execution_count": 47,
   "id": "96041b6e",
   "metadata": {},
   "outputs": [],
   "source": [
    "x_train,x_test,y_train,y_test=train_test_split(trainx,trainy,test_size=.27,random_state=42)"
   ]
  },
  {
   "cell_type": "code",
   "execution_count": 48,
   "id": "006d535e",
   "metadata": {},
   "outputs": [
    {
     "data": {
      "text/plain": [
       "(616, 12)"
      ]
     },
     "execution_count": 48,
     "metadata": {},
     "output_type": "execute_result"
    }
   ],
   "source": [
    "x_train.shape"
   ]
  },
  {
   "cell_type": "code",
   "execution_count": 49,
   "id": "0e5516be",
   "metadata": {},
   "outputs": [
    {
     "data": {
      "text/plain": [
       "(228, 12)"
      ]
     },
     "execution_count": 49,
     "metadata": {},
     "output_type": "execute_result"
    }
   ],
   "source": [
    "x_test.shape"
   ]
  },
  {
   "cell_type": "code",
   "execution_count": 50,
   "id": "8f55f5ee",
   "metadata": {},
   "outputs": [
    {
     "data": {
      "text/plain": [
       "(616,)"
      ]
     },
     "execution_count": 50,
     "metadata": {},
     "output_type": "execute_result"
    }
   ],
   "source": [
    "y_train.shape"
   ]
  },
  {
   "cell_type": "code",
   "execution_count": 51,
   "id": "6603d309",
   "metadata": {},
   "outputs": [
    {
     "data": {
      "text/plain": [
       "(228,)"
      ]
     },
     "execution_count": 51,
     "metadata": {},
     "output_type": "execute_result"
    }
   ],
   "source": [
    "y_test.shape"
   ]
  },
  {
   "cell_type": "code",
   "execution_count": 52,
   "id": "d2740af8",
   "metadata": {},
   "outputs": [
    {
     "data": {
      "text/plain": [
       "0    422\n",
       "1    422\n",
       "Name: Loan_Status, dtype: int64"
      ]
     },
     "execution_count": 52,
     "metadata": {},
     "output_type": "execute_result"
    }
   ],
   "source": [
    "trainy.value_counts()"
   ]
  },
  {
   "cell_type": "markdown",
   "id": "719dba14",
   "metadata": {},
   "source": [
    "# Model building"
   ]
  },
  {
   "cell_type": "markdown",
   "id": "c4c76301",
   "metadata": {},
   "source": [
    "# LogisticRegression"
   ]
  },
  {
   "cell_type": "code",
   "execution_count": 53,
   "id": "5b98c867",
   "metadata": {},
   "outputs": [],
   "source": [
    "LR=LogisticRegression()"
   ]
  },
  {
   "cell_type": "code",
   "execution_count": 54,
   "id": "5d004c50",
   "metadata": {},
   "outputs": [
    {
     "name": "stdout",
     "output_type": "stream",
     "text": [
      "0.7631578947368421\n",
      "[[81 42]\n",
      " [12 93]]\n",
      "              precision    recall  f1-score   support\n",
      "\n",
      "           0       0.87      0.66      0.75       123\n",
      "           1       0.69      0.89      0.78       105\n",
      "\n",
      "    accuracy                           0.76       228\n",
      "   macro avg       0.78      0.77      0.76       228\n",
      "weighted avg       0.79      0.76      0.76       228\n",
      "\n",
      "Training accuracy:: 0.7840909090909091\n",
      "Test accuracy:: 0.7631578947368421\n"
     ]
    }
   ],
   "source": [
    "LR.fit(x_train,y_train)\n",
    "LR_predicted=LR.predict(x_test)\n",
    "\n",
    "print(accuracy_score(y_test,LR_predicted))\n",
    "print(confusion_matrix(y_test,LR_predicted))\n",
    "print(classification_report(y_test,LR_predicted))\n",
    "print(\"Training accuracy::\",LR.score(x_train,y_train))\n",
    "print(\"Test accuracy::\",LR.score(x_test,y_test))"
   ]
  },
  {
   "cell_type": "markdown",
   "id": "9fd4f7e2",
   "metadata": {},
   "source": [
    "Got the accuracy as 71%"
   ]
  },
  {
   "cell_type": "markdown",
   "id": "010b5a17",
   "metadata": {},
   "source": [
    "# DecisionTreeClassifier"
   ]
  },
  {
   "cell_type": "code",
   "execution_count": 55,
   "id": "6be04d7f",
   "metadata": {},
   "outputs": [],
   "source": [
    "from sklearn.tree import DecisionTreeClassifier\n",
    "dtc=DecisionTreeClassifier()"
   ]
  },
  {
   "cell_type": "code",
   "execution_count": 56,
   "id": "be37a995",
   "metadata": {},
   "outputs": [
    {
     "name": "stdout",
     "output_type": "stream",
     "text": [
      "0.7807017543859649\n",
      "              precision    recall  f1-score   support\n",
      "\n",
      "           0       0.81      0.77      0.79       123\n",
      "           1       0.75      0.79      0.77       105\n",
      "\n",
      "    accuracy                           0.78       228\n",
      "   macro avg       0.78      0.78      0.78       228\n",
      "weighted avg       0.78      0.78      0.78       228\n",
      "\n"
     ]
    }
   ],
   "source": [
    "dtc=DecisionTreeClassifier()\n",
    "dtc.fit(x_train,y_train)\n",
    "preddtc=dtc.predict(x_test)\n",
    "print(accuracy_score(y_test,preddtc))\n",
    "print(classification_report(y_test,preddtc))"
   ]
  },
  {
   "cell_type": "markdown",
   "id": "a67d2c26",
   "metadata": {},
   "source": [
    "Got the accuracy as 76%"
   ]
  },
  {
   "cell_type": "markdown",
   "id": "89e7bb24",
   "metadata": {},
   "source": [
    "# KNeighborsClassifier"
   ]
  },
  {
   "cell_type": "code",
   "execution_count": 57,
   "id": "43c25006",
   "metadata": {},
   "outputs": [
    {
     "name": "stdout",
     "output_type": "stream",
     "text": [
      "0.6491228070175439\n",
      "              precision    recall  f1-score   support\n",
      "\n",
      "           0       0.65      0.75      0.70       123\n",
      "           1       0.64      0.53      0.58       105\n",
      "\n",
      "    accuracy                           0.65       228\n",
      "   macro avg       0.65      0.64      0.64       228\n",
      "weighted avg       0.65      0.65      0.64       228\n",
      "\n"
     ]
    }
   ],
   "source": [
    "from sklearn.neighbors import KNeighborsClassifier\n",
    "knn=KNeighborsClassifier(n_neighbors=5)\n",
    "knn.fit(x_train,y_train)\n",
    "knn.score(x_train,y_train)\n",
    "predknn=knn.predict(x_test)\n",
    "print(accuracy_score(y_test,predknn))\n",
    "print(classification_report(y_test,predknn))"
   ]
  },
  {
   "cell_type": "markdown",
   "id": "45a74e9c",
   "metadata": {},
   "source": [
    "Got the accuracy as 65%"
   ]
  },
  {
   "cell_type": "markdown",
   "id": "a45c5f29",
   "metadata": {},
   "source": [
    "# RandomForestClassifier"
   ]
  },
  {
   "cell_type": "code",
   "execution_count": 58,
   "id": "3a22ba07",
   "metadata": {},
   "outputs": [],
   "source": [
    "from sklearn.ensemble import RandomForestClassifier\n",
    "from sklearn.datasets import make_classification"
   ]
  },
  {
   "cell_type": "code",
   "execution_count": 59,
   "id": "d719413b",
   "metadata": {},
   "outputs": [
    {
     "name": "stdout",
     "output_type": "stream",
     "text": [
      "0.8289473684210527\n",
      "              precision    recall  f1-score   support\n",
      "\n",
      "           0       0.90      0.77      0.83       123\n",
      "           1       0.77      0.90      0.83       105\n",
      "\n",
      "    accuracy                           0.83       228\n",
      "   macro avg       0.83      0.83      0.83       228\n",
      "weighted avg       0.84      0.83      0.83       228\n",
      "\n"
     ]
    }
   ],
   "source": [
    "rfc=RandomForestClassifier()\n",
    "rfc.fit(x_train,y_train)\n",
    "rfc.score(x_train,y_train)\n",
    "predrfc=rfc.predict(x_test)\n",
    "print(accuracy_score(y_test,predrfc))\n",
    "print(classification_report(y_test,predrfc))"
   ]
  },
  {
   "cell_type": "markdown",
   "id": "8d294d46",
   "metadata": {},
   "source": [
    "Got the accuracy as 80%"
   ]
  },
  {
   "cell_type": "markdown",
   "id": "932253af",
   "metadata": {},
   "source": [
    "# SVC"
   ]
  },
  {
   "cell_type": "code",
   "execution_count": 60,
   "id": "50a90ba7",
   "metadata": {},
   "outputs": [
    {
     "name": "stdout",
     "output_type": "stream",
     "text": [
      "0.5131578947368421\n",
      "              precision    recall  f1-score   support\n",
      "\n",
      "           0       0.57      0.38      0.46       123\n",
      "           1       0.48      0.67      0.56       105\n",
      "\n",
      "    accuracy                           0.51       228\n",
      "   macro avg       0.53      0.52      0.51       228\n",
      "weighted avg       0.53      0.51      0.50       228\n",
      "\n"
     ]
    }
   ],
   "source": [
    "from sklearn.svm import SVC\n",
    "svc=SVC(kernel='rbf')#It is a type of kernel we have aligned. Rbf is radial basis function.\n",
    "svc.fit(x_train,y_train)\n",
    "predsvc=svc.predict(x_test)\n",
    "print(accuracy_score(y_test,predsvc))\n",
    "print(classification_report(y_test,predsvc))"
   ]
  },
  {
   "cell_type": "markdown",
   "id": "2b8306bc",
   "metadata": {},
   "source": [
    "Got the accuracy as 50%"
   ]
  },
  {
   "cell_type": "markdown",
   "id": "4a238e37",
   "metadata": {},
   "source": [
    "# Cross validation"
   ]
  },
  {
   "cell_type": "code",
   "execution_count": 75,
   "id": "b4d973ab",
   "metadata": {},
   "outputs": [
    {
     "name": "stdout",
     "output_type": "stream",
     "text": [
      "0.6921498067439691\n"
     ]
    }
   ],
   "source": [
    "print(cross_val_score(dtc,x,y,cv=5).mean())"
   ]
  },
  {
   "cell_type": "code",
   "execution_count": 76,
   "id": "495b42f2",
   "metadata": {},
   "outputs": [
    {
     "name": "stdout",
     "output_type": "stream",
     "text": [
      "0.809462881514061\n"
     ]
    }
   ],
   "source": [
    "print(cross_val_score(svc,x,y,cv=5).mean())"
   ]
  },
  {
   "cell_type": "code",
   "execution_count": 77,
   "id": "58307355",
   "metadata": {},
   "outputs": [
    {
     "name": "stdout",
     "output_type": "stream",
     "text": [
      "0.7686925229908037\n"
     ]
    }
   ],
   "source": [
    "print(cross_val_score(rfc,x,y,cv=5).mean())"
   ]
  },
  {
   "cell_type": "code",
   "execution_count": 78,
   "id": "4e0ad1f5",
   "metadata": {},
   "outputs": [
    {
     "name": "stdout",
     "output_type": "stream",
     "text": [
      "0.7834066373450619\n"
     ]
    }
   ],
   "source": [
    "print(cross_val_score(knn,x,y,cv=5).mean())"
   ]
  },
  {
   "cell_type": "markdown",
   "id": "e07cd84d",
   "metadata": {},
   "source": [
    "# ENSEMBLE TECHNIQUES"
   ]
  },
  {
   "cell_type": "markdown",
   "id": "cf15de21",
   "metadata": {},
   "source": [
    "# ADA BOOST CLASSIFIER"
   ]
  },
  {
   "cell_type": "code",
   "execution_count": 65,
   "id": "ca52a653",
   "metadata": {},
   "outputs": [],
   "source": [
    "from sklearn.ensemble import AdaBoostClassifier\n",
    "from sklearn.ensemble import BaggingClassifier\n",
    "from sklearn.ensemble import GradientBoostingClassifier"
   ]
  },
  {
   "cell_type": "code",
   "execution_count": 66,
   "id": "f7bf33db",
   "metadata": {},
   "outputs": [],
   "source": [
    "adb=AdaBoostClassifier()"
   ]
  },
  {
   "cell_type": "code",
   "execution_count": 67,
   "id": "adce7508",
   "metadata": {},
   "outputs": [
    {
     "name": "stdout",
     "output_type": "stream",
     "text": [
      "0.7719298245614035\n",
      "[[83 40]\n",
      " [12 93]]\n",
      "              precision    recall  f1-score   support\n",
      "\n",
      "           0       0.87      0.67      0.76       123\n",
      "           1       0.70      0.89      0.78       105\n",
      "\n",
      "    accuracy                           0.77       228\n",
      "   macro avg       0.79      0.78      0.77       228\n",
      "weighted avg       0.79      0.77      0.77       228\n",
      "\n",
      "Training accuracy:: 0.8409090909090909\n",
      "Test accuracy:: 0.7719298245614035\n"
     ]
    }
   ],
   "source": [
    "adb.fit(x_train,y_train)\n",
    "predicted_adb=adb.predict(x_test)\n",
    "print(accuracy_score(y_test,predicted_adb))\n",
    "print(confusion_matrix(y_test,predicted_adb))\n",
    "print(classification_report(y_test,predicted_adb))\n",
    "print(\"Training accuracy::\",adb.score(x_train,y_train))\n",
    "print(\"Test accuracy::\",adb.score(x_test,y_test))"
   ]
  },
  {
   "cell_type": "markdown",
   "id": "6f155a99",
   "metadata": {},
   "source": [
    "accuracy got it as 78%"
   ]
  },
  {
   "cell_type": "markdown",
   "id": "b1739223",
   "metadata": {},
   "source": [
    "# BAGGING CLASSIFIER"
   ]
  },
  {
   "cell_type": "code",
   "execution_count": 68,
   "id": "6b4b5197",
   "metadata": {},
   "outputs": [],
   "source": [
    "bgc=BaggingClassifier()"
   ]
  },
  {
   "cell_type": "code",
   "execution_count": 69,
   "id": "1697de41",
   "metadata": {},
   "outputs": [
    {
     "name": "stdout",
     "output_type": "stream",
     "text": [
      "0.8114035087719298\n",
      "[[100  23]\n",
      " [ 20  85]]\n",
      "              precision    recall  f1-score   support\n",
      "\n",
      "           0       0.83      0.81      0.82       123\n",
      "           1       0.79      0.81      0.80       105\n",
      "\n",
      "    accuracy                           0.81       228\n",
      "   macro avg       0.81      0.81      0.81       228\n",
      "weighted avg       0.81      0.81      0.81       228\n",
      "\n",
      "Training accuracy:: 0.9902597402597403\n",
      "Test accuracy:: 0.8114035087719298\n"
     ]
    }
   ],
   "source": [
    "bgc.fit(x_train,y_train)\n",
    "predicted_bgc=bgc.predict(x_test)\n",
    "print(accuracy_score(y_test,predicted_bgc))\n",
    "print(confusion_matrix(y_test,predicted_bgc))\n",
    "print(classification_report(y_test,predicted_bgc))\n",
    "print(\"Training accuracy::\",bgc.score(x_train,y_train))\n",
    "print(\"Test accuracy::\",bgc.score(x_test,y_test))"
   ]
  },
  {
   "cell_type": "markdown",
   "id": "2288245e",
   "metadata": {},
   "source": [
    "accuracy got it as 81%"
   ]
  },
  {
   "cell_type": "markdown",
   "id": "4a3bc79a",
   "metadata": {},
   "source": [
    "# Gradient Boosting classifier"
   ]
  },
  {
   "cell_type": "code",
   "execution_count": 70,
   "id": "192a79fc",
   "metadata": {},
   "outputs": [],
   "source": [
    "grbc=GradientBoostingClassifier()"
   ]
  },
  {
   "cell_type": "code",
   "execution_count": 71,
   "id": "13e2ba66",
   "metadata": {},
   "outputs": [
    {
     "name": "stdout",
     "output_type": "stream",
     "text": [
      "0.7982456140350878\n",
      "[[86 37]\n",
      " [ 9 96]]\n",
      "              precision    recall  f1-score   support\n",
      "\n",
      "           0       0.91      0.70      0.79       123\n",
      "           1       0.72      0.91      0.81       105\n",
      "\n",
      "    accuracy                           0.80       228\n",
      "   macro avg       0.81      0.81      0.80       228\n",
      "weighted avg       0.82      0.80      0.80       228\n",
      "\n",
      "Training accuracy:: 0.9253246753246753\n",
      "Test accuracy:: 0.7982456140350878\n"
     ]
    }
   ],
   "source": [
    "grbc.fit(x_train,y_train)\n",
    "predicted_grbc=grbc.predict(x_test)\n",
    "print(accuracy_score(y_test,predicted_grbc))\n",
    "print(confusion_matrix(y_test,predicted_grbc))\n",
    "print(classification_report(y_test,predicted_grbc))\n",
    "print(\"Training accuracy::\",grbc.score(x_train,y_train))\n",
    "print(\"Test accuracy::\",grbc.score(x_test,y_test))"
   ]
  },
  {
   "cell_type": "markdown",
   "id": "74aba36e",
   "metadata": {},
   "source": [
    "accuracy got it as 79%"
   ]
  },
  {
   "cell_type": "markdown",
   "id": "6ca77888",
   "metadata": {},
   "source": [
    "# cross validation score"
   ]
  },
  {
   "cell_type": "code",
   "execution_count": 79,
   "id": "3c917b55",
   "metadata": {},
   "outputs": [
    {
     "name": "stdout",
     "output_type": "stream",
     "text": [
      "0.6923230707716914\n"
     ]
    }
   ],
   "source": [
    "print(cross_val_score(adb,x,y,cv=5).mean())"
   ]
  },
  {
   "cell_type": "code",
   "execution_count": 80,
   "id": "9ada19bb",
   "metadata": {},
   "outputs": [
    {
     "name": "stdout",
     "output_type": "stream",
     "text": [
      "0.7003731840597094\n"
     ]
    }
   ],
   "source": [
    "print(cross_val_score(bgc,x,y,cv=5).mean())"
   ]
  },
  {
   "cell_type": "code",
   "execution_count": 81,
   "id": "f876ecff",
   "metadata": {},
   "outputs": [
    {
     "name": "stdout",
     "output_type": "stream",
     "text": [
      "0.7133813141410104\n"
     ]
    }
   ],
   "source": [
    "print(cross_val_score(grbc,x,y,cv=5).mean())"
   ]
  },
  {
   "cell_type": "markdown",
   "id": "0ccebc48",
   "metadata": {},
   "source": [
    "# Hyper parameter tunning"
   ]
  },
  {
   "cell_type": "code",
   "execution_count": 85,
   "id": "86414f61",
   "metadata": {},
   "outputs": [],
   "source": [
    "grbc=GradientBoostingClassifier()\n",
    "parameter={'criterion' : ['mse', 'mae'],\n",
    "            'n_estimators':[100,200,50],\n",
    "            'learning_rate':[0.1,0.5],\n",
    "             'loss':['deviance', 'exponential']              \n",
    "            }"
   ]
  },
  {
   "cell_type": "code",
   "execution_count": 86,
   "id": "5477f157",
   "metadata": {},
   "outputs": [],
   "source": [
    "from sklearn.model_selection import GridSearchCV\n",
    "import numpy as np\n",
    "GCV=GridSearchCV(GradientBoostingClassifier(),parameter,cv=5)"
   ]
  },
  {
   "cell_type": "code",
   "execution_count": 87,
   "id": "d2527171",
   "metadata": {},
   "outputs": [
    {
     "data": {
      "text/plain": [
       "GridSearchCV(cv=5, estimator=GradientBoostingClassifier(),\n",
       "             param_grid={'criterion': ['mse', 'mae'],\n",
       "                         'learning_rate': [0.1, 0.5],\n",
       "                         'loss': ['deviance', 'exponential'],\n",
       "                         'n_estimators': [100, 200, 50]})"
      ]
     },
     "execution_count": 87,
     "metadata": {},
     "output_type": "execute_result"
    }
   ],
   "source": [
    "GCV.fit(x_train,y_train)"
   ]
  },
  {
   "cell_type": "code",
   "execution_count": 88,
   "id": "f25701bd",
   "metadata": {},
   "outputs": [
    {
     "data": {
      "text/plain": [
       "{'criterion': 'mse',\n",
       " 'learning_rate': 0.5,\n",
       " 'loss': 'exponential',\n",
       " 'n_estimators': 200}"
      ]
     },
     "execution_count": 88,
     "metadata": {},
     "output_type": "execute_result"
    }
   ],
   "source": [
    "GCV.best_params_"
   ]
  },
  {
   "cell_type": "markdown",
   "id": "2eda4453",
   "metadata": {},
   "source": [
    "These are the best parameters"
   ]
  },
  {
   "cell_type": "code",
   "execution_count": 89,
   "id": "e6b7252d",
   "metadata": {},
   "outputs": [
    {
     "name": "stdout",
     "output_type": "stream",
     "text": [
      "79.82456140350878\n"
     ]
    }
   ],
   "source": [
    "final_model=GradientBoostingClassifier(criterion='mse',learning_rate=0.5,n_estimators=200,loss='exponential')\n",
    "final_model.fit(x_train,y_train)\n",
    "pred=final_model.predict(x_test)\n",
    "accuracy=accuracy_score(y_test,pred)\n",
    "print (accuracy*100)"
   ]
  },
  {
   "cell_type": "markdown",
   "id": "4b34f861",
   "metadata": {},
   "source": [
    "Accuracy got it as 80%"
   ]
  },
  {
   "cell_type": "markdown",
   "id": "d5a610a0",
   "metadata": {},
   "source": [
    "# Ploltting AOC RUC CURVE"
   ]
  },
  {
   "cell_type": "code",
   "execution_count": 90,
   "id": "f43e89cd",
   "metadata": {},
   "outputs": [],
   "source": [
    "from sklearn.metrics import roc_curve\n",
    "import matplotlib.pyplot as plt\n",
    "from sklearn.metrics import roc_auc_score"
   ]
  },
  {
   "cell_type": "code",
   "execution_count": 97,
   "id": "b68de1f3",
   "metadata": {},
   "outputs": [],
   "source": [
    "besr_grbc_pred=GCV.best_estimator_.predict(x_test)"
   ]
  },
  {
   "cell_type": "code",
   "execution_count": 98,
   "id": "b68c9295",
   "metadata": {},
   "outputs": [],
   "source": [
    "fpr,tpr,thresh1=roc_curve(y_test,best_grbc_pred,pos_label=1)"
   ]
  },
  {
   "cell_type": "code",
   "execution_count": 100,
   "id": "b67ebed5",
   "metadata": {},
   "outputs": [
    {
     "data": {
      "text/plain": [
       "<matplotlib.legend.Legend at 0x24f98a6a3a0>"
      ]
     },
     "execution_count": 100,
     "metadata": {},
     "output_type": "execute_result"
    },
    {
     "data": {
      "image/png": "[encoded data removed]",
      "text/plain": [
       "<Figure size 432x288 with 1 Axes>"
      ]
     },
     "metadata": {},
     "output_type": "display_data"
    }
   ],
   "source": [
    "sn.set_theme(style=\"darkgrid\")\n",
    "plt.plot(fpr, tpr, linestyle='--',color='red', label='GradientBoostingClassifier')\n",
    "\n",
    "plt.title('ROC curve')\n",
    "plt.xlabel('False Positive Rate')\n",
    "plt.ylabel('True Positive rate')\n",
    "plt.legend(loc='best')"
   ]
  },
  {
   "cell_type": "markdown",
   "id": "5d69e708",
   "metadata": {},
   "source": [
    "Got the ROC curve"
   ]
  },
  {
   "cell_type": "markdown",
   "id": "0036b3e2",
   "metadata": {},
   "source": [
    "# Saving the model"
   ]
  },
  {
   "cell_type": "code",
   "execution_count": 101,
   "id": "52f2bdfd",
   "metadata": {},
   "outputs": [
    {
     "data": {
      "text/plain": [
       "['Final Model of Loan application status prediction.pkl']"
      ]
     },
     "execution_count": 101,
     "metadata": {},
     "output_type": "execute_result"
    }
   ],
   "source": [
    "import joblib\n",
    "joblib.dump(final_model,\"Final Model of Loan application status prediction.pkl\")"
   ]
  },
  {
   "cell_type": "markdown",
   "id": "62eed3e8",
   "metadata": {},
   "source": [
    "Saved the model"
   ]
  }
 ],
 "metadata": {
  "kernelspec": {
   "display_name": "Python 3",
   "language": "python",
   "name": "python3"
  },
  "language_info": {
   "codemirror_mode": {
    "name": "ipython",
    "version": 3
   },
   "file_extension": ".py",
   "mimetype": "text/x-python",
   "name": "python",
   "nbconvert_exporter": "python",
   "pygments_lexer": "ipython3",
   "version": "3.8.8"
  }
 },
 "nbformat": 4,
 "nbformat_minor": 5
}
